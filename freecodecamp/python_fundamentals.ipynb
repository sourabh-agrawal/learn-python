{
 "cells": [
  {
   "cell_type": "markdown",
   "metadata": {},
   "source": [
    "# Python Fundamentals"
   ]
  },
  {
   "cell_type": "markdown",
   "metadata": {},
   "source": [
    "## Variable\n",
    "\n",
    "- Char, numbers, underscore.\n",
    "- Can't start with numbers.\n",
    "- Can't be python keywords. E.g. If\n",
    "\n",
    "## Expressions and statement\n",
    "\n",
    "- Expression returns a value.\n",
    "    ```\n",
    "    1 + 1\n",
    "    ```\n",
    "- Statement. E.g.\n",
    "    ```\n",
    "    print(\"Bob\")\n",
    "    ```\n",
    "- Program: Group of statements.\n",
    "    - Can put multiple statements using ; in a single line. E.g.\n",
    "        ```\n",
    "        name = \"sourabh\"; print(name)\n",
    "        ```\n",
    "\n",
    "## Comments\n",
    "\n",
    "```\n",
    "# Everything after a hash char is ignored and referred as a comment.\n",
    "print(\"Inline comment\")     # This is an inline comment\n",
    "```"
   ]
  },
  {
   "cell_type": "markdown",
   "metadata": {},
   "source": [
    "## Operators"
   ]
  },
  {
   "cell_type": "markdown",
   "metadata": {},
   "source": [
    "### Assignment operator"
   ]
  },
  {
   "cell_type": "code",
   "execution_count": 11,
   "metadata": {},
   "outputs": [],
   "source": [
    "number = 10"
   ]
  },
  {
   "cell_type": "markdown",
   "metadata": {},
   "source": [
    "### Arithmetic operator"
   ]
  },
  {
   "cell_type": "code",
   "execution_count": 26,
   "metadata": {},
   "outputs": [
    {
     "name": "stdout",
     "output_type": "stream",
     "text": [
      "2\n",
      "1\n",
      "4\n",
      "1.6\n",
      "16\n",
      "1\n",
      "3\n",
      "16\n"
     ]
    }
   ],
   "source": [
    "print(1 + 1)\n",
    "print(2 - 1)\n",
    "print(2 * 2)\n",
    "print(8 / 5)\n",
    "print(4 ** 2)\n",
    "\n",
    "# 8/5 -> Divisor(5), Divident(8), Quotient(1), Remainder(3)\n",
    "print(8 // 5)   # Quotient\n",
    "print(8 % 5)    # Remainder\n",
    "\n",
    "# Arithmetic operators can be used with assignment operator\n",
    "age = 8\n",
    "age += 8 # age = age + 8\n",
    "print(age)"
   ]
  },
  {
   "cell_type": "markdown",
   "metadata": {},
   "source": [
    "### Comparison operator "
   ]
  },
  {
   "cell_type": "code",
   "execution_count": 27,
   "metadata": {},
   "outputs": [
    {
     "name": "stdout",
     "output_type": "stream",
     "text": [
      "False\n",
      "True\n",
      "False\n",
      "True\n"
     ]
    }
   ],
   "source": [
    "a, b = 1, 2\n",
    "\n",
    "print(a == b)\n",
    "print(a != b)\n",
    "print(a > b)\n",
    "print(a < b)"
   ]
  },
  {
   "cell_type": "markdown",
   "metadata": {},
   "source": [
    "### Boolean operator\n",
    "\n",
    "- not\n",
    "- and\n",
    "- or"
   ]
  },
  {
   "cell_type": "code",
   "execution_count": 28,
   "metadata": {},
   "outputs": [
    {
     "name": "stdout",
     "output_type": "stream",
     "text": [
      "False\n",
      "False\n",
      "True\n"
     ]
    }
   ],
   "source": [
    "con1 = True\n",
    "con2 = False\n",
    "\n",
    "print(not con1)\n",
    "print(con1 and con2)\n",
    "print(con1 or con2)"
   ]
  },
  {
   "cell_type": "markdown",
   "metadata": {},
   "source": [
    "### Bitwise operator\n",
    "\n",
    "- \"&\" -> binary AND\n",
    "- \"|\" -> binary OR\n",
    "- \"^\" -> binary XOR\n",
    "- \"~\" -> binary NOT\n",
    "- \"<<\" -> shift left\n",
    "- \">>\" -> shift right\n"
   ]
  },
  {
   "cell_type": "markdown",
   "metadata": {},
   "source": [
    "### Is/In operator\n",
    "\n",
    "- Is: **Identity operator**, Returns true if both obj are same\n",
    "- In: **membership operator**, Used to check if value is in list or sequence etc..."
   ]
  },
  {
   "cell_type": "markdown",
   "metadata": {},
   "source": [
    "### Ternary operator\n",
    "\n",
    "> ```<value_if_true> if <condition> else <value_if_false>```"
   ]
  },
  {
   "cell_type": "code",
   "execution_count": 29,
   "metadata": {},
   "outputs": [
    {
     "name": "stdout",
     "output_type": "stream",
     "text": [
      "True\n",
      "True\n"
     ]
    }
   ],
   "source": [
    "def is_adult(age):\n",
    "    if age > 18:\n",
    "        return True\n",
    "    else:\n",
    "        return False\n",
    "    \n",
    "def is_adult_ternary(age):\n",
    "    return True if age > 18 else False\n",
    "\n",
    "print(is_adult(19))\n",
    "print(is_adult_ternary(19))"
   ]
  },
  {
   "cell_type": "markdown",
   "metadata": {},
   "source": [
    "## User Input"
   ]
  },
  {
   "cell_type": "code",
   "execution_count": 8,
   "metadata": {},
   "outputs": [
    {
     "name": "stdout",
     "output_type": "stream",
     "text": [
      "What is your age?\n",
      "Your age is: 22\n",
      "Your age is: 34\n"
     ]
    }
   ],
   "source": [
    "print(\"What is your age?\")\n",
    "age = input()   #Returns a string\n",
    "print(\"Your age is:\", age)\n",
    "\n",
    "\n",
    "age = input(\"What is your age?\")\n",
    "print(\"Your age is: \" + age)"
   ]
  },
  {
   "cell_type": "markdown",
   "metadata": {},
   "source": [
    "## Control Statements"
   ]
  },
  {
   "cell_type": "code",
   "execution_count": 18,
   "metadata": {},
   "outputs": [
    {
     "name": "stdout",
     "output_type": "stream",
     "text": [
      "Hey kid\n"
     ]
    }
   ],
   "source": [
    "age = int(input(\"What is your age?\"))\n",
    "\n",
    "if age > 18:\n",
    "    print(\"You are an adult\")\n",
    "elif age > 12:\n",
    "    print(\"You are a teen\")\n",
    "else:\n",
    "    print(\"Hey kid\")"
   ]
  },
  {
   "cell_type": "markdown",
   "metadata": {},
   "source": [
    "## Data types\n",
    "\n",
    "- String\n",
    "- int\n",
    "- float\n",
    "- complex\n",
    "- bool (True/ False)\n",
    "- list\n",
    "- tuple\n",
    "- range\n",
    "- set\n",
    "- dict"
   ]
  },
  {
   "cell_type": "code",
   "execution_count": 5,
   "metadata": {},
   "outputs": [
    {
     "name": "stdout",
     "output_type": "stream",
     "text": [
      "<class 'str'>\n",
      "True\n",
      "True\n",
      "True\n"
     ]
    }
   ],
   "source": [
    "# String data type\n",
    "name = \"sourabh\"\n",
    "print(type(name))\n",
    "print(isinstance(name, str))\n",
    "\n",
    "# Int data type\n",
    "number = 2\n",
    "print(isinstance(number, int))\n",
    "\n",
    "# Float data type\n",
    "number_in_decimal = 2.9\n",
    "print(isinstance(number_in_decimal, float))"
   ]
  },
  {
   "cell_type": "markdown",
   "metadata": {},
   "source": [
    "### Conversion\n",
    "\n",
    "- Converting one data type into another is called **casting**.\n",
    "- Happens by using class constructors.\n",
    "\n",
    "> Python automatically infers the data type of variable using it's value. But if you want to define the type explicitly then use it's class constructors. E.g. ```number = int(10)```"
   ]
  },
  {
   "cell_type": "code",
   "execution_count": 1,
   "metadata": {},
   "outputs": [
    {
     "name": "stdout",
     "output_type": "stream",
     "text": [
      "<class 'int'>\n",
      "<class 'str'>\n",
      "<class 'int'>\n"
     ]
    }
   ],
   "source": [
    "number = 20\n",
    "print(type(number))\n",
    "\n",
    "number_in_string = \"20\"\n",
    "print(type(number_in_string))\n",
    "\n",
    "converted_number = int(number_in_string)\n",
    "print(type(converted_number))"
   ]
  },
  {
   "cell_type": "markdown",
   "metadata": {},
   "source": [
    "### String "
   ]
  },
  {
   "cell_type": "code",
   "execution_count": 8,
   "metadata": {},
   "outputs": [
    {
     "name": "stdout",
     "output_type": "stream",
     "text": [
      "string in the double quotes\n",
      "string in the single quotes\n",
      "\n",
      "This is a multi line\n",
      "string\n",
      "\n",
      "\n",
      "This is a multi line\n",
      "string using the single quotes\n",
      "\n",
      "sourabh is my name\n"
     ]
    }
   ],
   "source": [
    "print(\"string in the double quotes\")\n",
    "print('string in the single quotes')\n",
    "print(\"\"\"\n",
    "This is a multi line\n",
    "string\n",
    "\"\"\")\n",
    "print('''\n",
    "This is a multi line\n",
    "string using the single quotes\n",
    "''')\n",
    "\n",
    "name = \"sourabh\"\n",
    "name += \" is my name\"\n",
    "print(name)"
   ]
  },
  {
   "cell_type": "markdown",
   "metadata": {},
   "source": [
    "#### Methods"
   ]
  },
  {
   "cell_type": "code",
   "execution_count": 6,
   "metadata": {},
   "outputs": [
    {
     "name": "stdout",
     "output_type": "stream",
     "text": [
      "sourabh learns\n",
      "SOURABH LEARNS\n",
      "Sourabh Learns\n",
      "\n",
      "True\n",
      "True\n",
      "\n",
      "rourabh learnr\n",
      "sourabh learns\n",
      "['sourabh', 'learns']\n",
      "['Hey', '', '', 'this', '', '', '', 'is', '']\n",
      "['Hey', 'this', 'is']\n",
      "Hey   this    is\n",
      "Hey.this.is\n",
      "\n",
      "1\n",
      "-1\n",
      "1\n",
      "\n",
      "True\n",
      "False\n",
      "False\n",
      "False\n",
      "True\n",
      "\n",
      "14\n",
      "True\n",
      "False\n"
     ]
    }
   ],
   "source": [
    "name = \"sourabh learns\"\n",
    "print(name.lower())\n",
    "print(name.upper())\n",
    "print(name.title())\n",
    "print()\n",
    "\n",
    "print(name.startswith(\"so\"))\n",
    "print(name.endswith(\"learns\"))\n",
    "print()\n",
    "\n",
    "print(name.replace(\"s\", \"r\"))   # Not inplace\n",
    "print(name)\n",
    "print(name.split(\" \"))\n",
    "print(\"Hey   this    is \".split(\" \"))\n",
    "print(\"Hey   this    is \".split())\n",
    "print(\"Hey   this    is \".strip())\n",
    "print(\".\".join(\"Hey   this    is \".split()))\n",
    "print()\n",
    "\n",
    "print(name.find(\"o\"))\n",
    "print(name.find(\"1\"))\n",
    "print(name.index(\"o\"))\n",
    "#print(name.index(\"1\"))\n",
    "print()\n",
    "\n",
    "print(name.islower())\n",
    "print(name.isupper())\n",
    "print(name.isalpha())\n",
    "print(name.isalnum())\n",
    "print(\"1234\".isdigit())\n",
    "print()\n",
    "\n",
    "print(len(name))\n",
    "print(\"sou\" in name)\n",
    "print(\"z\" in name)"
   ]
  },
  {
   "cell_type": "markdown",
   "metadata": {},
   "source": [
    "#### Escaping Character"
   ]
  },
  {
   "cell_type": "code",
   "execution_count": 11,
   "metadata": {},
   "outputs": [
    {
     "name": "stdout",
     "output_type": "stream",
     "text": [
      "Hello'\"sourabh\n",
      "Hello\n",
      "Sourabh\n",
      "Hello\\Brother\n"
     ]
    }
   ],
   "source": [
    "print(\"Hello'\\\"sourabh\")\n",
    "print(\"Hello\\nSourabh\")\n",
    "print(\"Hello\\\\Brother\")"
   ]
  },
  {
   "cell_type": "markdown",
   "metadata": {},
   "source": [
    "#### String Characters And Slicing"
   ]
  },
  {
   "cell_type": "code",
   "execution_count": 21,
   "metadata": {},
   "outputs": [
    {
     "name": "stdout",
     "output_type": "stream",
     "text": [
      "S o l\n",
      "o\n",
      "ou\n",
      "So\n",
      "ourabh Agrawal\n",
      "al\n",
      "a\n",
      "Error: You passed an empty string\n"
     ]
    }
   ],
   "source": [
    "name = \"Sourabh Agrawal\"\n",
    "print(name[0], name[1], name[-1])\n",
    "print(name[1:2])\n",
    "print(name[1:3])\n",
    "print(name[:2])\n",
    "print(name[1:])\n",
    "print(name[-2:])    # Last 2 characters\n",
    "print(str(\"a\")[-1])\n",
    "name = \"\"\n",
    "print(name[-1] if len(name) > 1 else \"Error: You passed an empty string\" )"
   ]
  },
  {
   "cell_type": "markdown",
   "metadata": {},
   "source": [
    "### Boolean"
   ]
  },
  {
   "cell_type": "code",
   "execution_count": 31,
   "metadata": {},
   "outputs": [
    {
     "name": "stdout",
     "output_type": "stream",
     "text": [
      "True False\n",
      "<class 'bool'>\n",
      "True\n",
      "not not_done\n",
      "0 is treated as False\n",
      "Non zero numbers are treated as True\n",
      "Empty 'strings/list/set/tuples/dict' are treated as False\n",
      "Non empty 'strings/list/set/tuples/dict' are treated as True\n"
     ]
    }
   ],
   "source": [
    "done = True\n",
    "not_done = False\n",
    "print(done, not_done)\n",
    "print(type(done))\n",
    "print(type(done) == bool)\n",
    "\n",
    "if False:\n",
    "    print(\"Done\")\n",
    "elif not not_done:\n",
    "    print(\"not not_done\")\n",
    "else:\n",
    "    print(\"Nope\")\n",
    "\n",
    "if 0:\n",
    "    print(\"0\")\n",
    "else:\n",
    "    print(\"0 is treated as False\")\n",
    "\n",
    "if 10:\n",
    "    print(\"Non zero numbers are treated as True\")\n",
    "\n",
    "if not \"\":\n",
    "    print(\"Empty 'strings/list/set/tuples/dict' are treated as False\")\n",
    "\n",
    "if \"sourabh\":\n",
    "    print(\"Non empty 'strings/list/set/tuples/dict' are treated as True\")"
   ]
  },
  {
   "cell_type": "markdown",
   "metadata": {},
   "source": [
    "##### Helpful Golbal"
   ]
  },
  {
   "cell_type": "code",
   "execution_count": 34,
   "metadata": {},
   "outputs": [
    {
     "name": "stdout",
     "output_type": "stream",
     "text": [
      "True\n",
      "False\n"
     ]
    }
   ],
   "source": [
    "book_1_read = True\n",
    "book_2_read = False\n",
    "\n",
    "read_any_book = any([book_1_read, book_2_read])\n",
    "print(read_any_book)\n",
    "\n",
    "read_all_books = all([book_1_read, book_2_read])\n",
    "print(read_all_books)"
   ]
  },
  {
   "cell_type": "markdown",
   "metadata": {},
   "source": [
    "### Number"
   ]
  },
  {
   "cell_type": "code",
   "execution_count": 36,
   "metadata": {},
   "outputs": [
    {
     "name": "stdout",
     "output_type": "stream",
     "text": [
      "(1+2j)\n",
      "(1+2j)\n",
      "1.0 2.0\n",
      "<class 'complex'>\n"
     ]
    }
   ],
   "source": [
    "# Complex\n",
    "num1 = 1 + 2j\n",
    "print(num1)\n",
    "\n",
    "num2= complex(1, 2)\n",
    "print(num2)\n",
    "print(num2.real, num2.imag)\n",
    "\n",
    "print(type(num2))"
   ]
  },
  {
   "cell_type": "markdown",
   "metadata": {},
   "source": [
    "#### Built-in Helpers"
   ]
  },
  {
   "cell_type": "code",
   "execution_count": 5,
   "metadata": {},
   "outputs": [
    {
     "name": "stdout",
     "output_type": "stream",
     "text": [
      "abs: 10 10.1 10.1 1\n",
      "round of positives: 10 10 11\n",
      "round of negatives: -10 -10 -11\n",
      "10.2 10.2 10.3\n"
     ]
    }
   ],
   "source": [
    "print(\"abs:\", abs(10), abs(10.1), abs(-10.1), abs(-1))  # abs(-x) = x\n",
    "\n",
    "print(\"round of positives:\", round(10.1), round(10.5), round(10.6))\n",
    "print(\"round of negatives:\", round(-10.1), round(-10.5), round(-10.6)) # round(-x) = -round(x)\n",
    "\n",
    "print(round(10.23, 1), round(10.25, 1), round(10.26, 1))"
   ]
  },
  {
   "cell_type": "markdown",
   "metadata": {},
   "source": [
    "### Enum"
   ]
  },
  {
   "cell_type": "code",
   "execution_count": 9,
   "metadata": {},
   "outputs": [
    {
     "name": "stdout",
     "output_type": "stream",
     "text": [
      "<enum 'my_constant'>\n",
      "[<my_constant.ACTIVE: 0>, <my_constant.INACTIVE: 1>]\n",
      "2\n",
      "my_constant.ACTIVE my_constant.INACTIVE my_constant.ACTIVE my_constant.INACTIVE\n",
      "0 1 0 1\n",
      "my_constant.ACTIVE my_constant.INACTIVE\n",
      "<enum 'my_constant'>\n",
      "<class 'int'>\n"
     ]
    }
   ],
   "source": [
    "from enum import Enum\n",
    "\n",
    "class my_constant(Enum):\n",
    "    ACTIVE = 0\n",
    "    INACTIVE = 1\n",
    "\n",
    "print(my_constant)\n",
    "print(list(my_constant))\n",
    "print(len(my_constant))\n",
    "\n",
    "print(my_constant.ACTIVE, my_constant.INACTIVE, my_constant['ACTIVE'], my_constant['INACTIVE'])\n",
    "print(my_constant.ACTIVE.value, my_constant.INACTIVE.value, my_constant['ACTIVE'].value, my_constant['INACTIVE'].value)\n",
    "print(my_constant(0), my_constant(1))\n",
    "\n",
    "print(type(my_constant.ACTIVE))\n",
    "print(type(my_constant.ACTIVE.value))\n",
    "\n",
    "# Can't modify the enum value, once created it's like a constant.\n",
    "# my_constant.ACTIVE.value = 2"
   ]
  },
  {
   "cell_type": "markdown",
   "metadata": {},
   "source": [
    "### List"
   ]
  },
  {
   "cell_type": "code",
   "execution_count": 32,
   "metadata": {},
   "outputs": [
    {
     "name": "stdout",
     "output_type": "stream",
     "text": [
      "[]\n",
      "\n",
      "['jan', 1, 'feb', 2, 'mar', 3]\n",
      "\n",
      "jan\t3\n",
      "['jan', '1', 'feb', 2, 'mar', 3]\n",
      "length 6\n",
      "['mar', 3] ['1', 'feb', 2, 'mar', 3] ['jan', '1']\n",
      "['jan', '1', 'feb', 2, 'mar', 3, [1]]\n",
      "['jan', '1', 'feb', 2, 'mar', 3, [1], 1, 'yo']\n",
      "['jan', '1', 'feb', 2, 'mar', 3, [1], 1, 'yo', 2, 'yoyo']\n",
      "['jan', 'inserted', '1', 'feb', 2, 'mar', 3, [1], 1, 'yo', 2, 'yoyo']\n",
      "['jan', 'first', 'second', 'inserted', '1', 'feb', 2, 'mar', 3, [1], 1, 'yo', 2, 'yoyo']\n",
      "['jan', 'first', 'second', 'inserted', '1', 2, 'mar', 3, [1], 1, 'yo', 2, 'yoyo']\n",
      "['jan', 'first', 'second', 'inserted', '1', 2, 'mar', 3, [1], 1, 'yo', 2]\tyoyo\t['jan', 'first', 'second', 'inserted', '1', 2, 'mar', 3, [1], 1, 'yo', 2]\n",
      "['jan', 'first', 'second', 'inserted', '1', 2, 'mar', 3, [1], 1, 'yo', 2]\n",
      "None ['Feb', 'Jen', 'jan', 'mar']\n",
      "None ['Feb', 'jan', 'Jen', 'mar']\n",
      "[1, 2, 3, 5]\n",
      "[5, 3, 2, 1]\n",
      "True\n"
     ]
    }
   ],
   "source": [
    "family = []\n",
    "print(family, end=\"\\n\\n\")\n",
    "\n",
    "months = [\"jan\", 1, \"feb\", 2, \"mar\", 3]  #can have multiple data types in a list\n",
    "print(months, end=\"\\n\\n\")\n",
    "\n",
    "print(months[0], months[-1], sep=\"\\t\")\n",
    "\n",
    "months[1] = \"1\"\n",
    "print(months)\n",
    "\n",
    "# Slicing\n",
    "print(\"length\", len(months))\n",
    "print(months[-2:], months[1:], months[:2])\n",
    "\n",
    "# Adding elements\n",
    "months.append([1]) # only one obj can be appended\n",
    "print(months)\n",
    "months.extend([1, \"yo\"])\n",
    "print(months)\n",
    "months += [2, \"yoyo\"]\n",
    "print(months)\n",
    "\n",
    "months.insert(1, \"inserted\") # Inserted 1 element\n",
    "print(months)\n",
    "\n",
    "months[1:1] = [\"first\", \"second\"] # Inserted 2 elements at index 1\n",
    "print(months)\n",
    "\n",
    "# Removing elements\n",
    "months.remove(\"feb\")\n",
    "print(months)\n",
    "print(months, months.pop(), months, sep=\"\\t\")\n",
    "\n",
    "# copying\n",
    "months_copy = months[:]\n",
    "print(months_copy)\n",
    "\n",
    "# sorting\n",
    "    # In-place, so copy the list before, if don't wanna modify\n",
    "    # list element should be of a similar data type\n",
    "items = [\"Jen\", \"Feb\", \"jan\", \"mar\"]\n",
    "print(items.sort(), items)\n",
    "print(items.sort(key=str.lower), items) # ignoring the case of items\n",
    "\n",
    "# If don't want to do in place sorting then using global function\n",
    "numbers = [3, 2, 1, 5]\n",
    "print(sorted(numbers))\n",
    "print(sorted(numbers, reverse=True))\n",
    "print(3 in numbers)"
   ]
  },
  {
   "cell_type": "markdown",
   "metadata": {},
   "source": [
    "### Tuples\n",
    "\n",
    "- Creates an immutable obj, which can't be modified later."
   ]
  },
  {
   "cell_type": "code",
   "execution_count": 40,
   "metadata": {},
   "outputs": [
    {
     "name": "stdout",
     "output_type": "stream",
     "text": [
      "4\n",
      "0\n",
      "3\t4\t(3, 2, 4)\t(1, 3)\t(2, 4)\n",
      "[4, 3, 2, 1]\n",
      "(1, 3, 2, 4) (1, 3, 2, 4, 5, 4)\n",
      "2\n",
      "(2,)\n"
     ]
    }
   ],
   "source": [
    "items = (1, 3, 2, 4)\n",
    "\n",
    "print(len(items))\n",
    "print(items.index(1))\n",
    "print(items[1], items[-1], items[1:], items[:2], items[-2:], sep=\"\\t\")\n",
    "print(sorted(items, reverse=True)) # Returns a list\n",
    "\n",
    "newTup = items + (5, 4)\n",
    "print(items, newTup)\n",
    "\n",
    "another = (2) # this is not a tuple and instead it's an integer\n",
    "print(another)\n",
    "\n",
    "another = (2,) # use comma to create a tuple with single elemment\n",
    "print(another)"
   ]
  },
  {
   "cell_type": "markdown",
   "metadata": {},
   "source": [
    "### Dictionarie"
   ]
  },
  {
   "cell_type": "code",
   "execution_count": 66,
   "metadata": {},
   "outputs": [
    {
     "name": "stdout",
     "output_type": "stream",
     "text": [
      "{'name': 'sourabh', 'last_name': 'agrawal', 2: 'two'}\n",
      "3\n",
      "two\tnew\n",
      "Not found\n",
      "new {'last_name': 'agrawal', 2: 'two'}\n",
      "Not found {'last_name': 'agrawal', 2: 'two'}\n",
      "\n",
      "{'last_name': 'agrawal', 2: 'two'}\n",
      "(2, 'two')\n",
      "{'last_name': 'agrawal'}\n",
      "False True\n",
      "\n",
      "dict_keys(['last_name'])\t['last_name']\n",
      "\n",
      "dict_values(['agrawal'])\t['agrawal']\n",
      "\n",
      "dict_items([('last_name', 'agrawal')])\t[('last_name', 'agrawal')]\n",
      "\n",
      "{'last_name': 'agrawal', 'age': 26}\n",
      "{'last_name': 'agrawal'}\n",
      "{'last_name': 'agrawal'}\n"
     ]
    }
   ],
   "source": [
    "info = { \"name\" : \"sourabh\", \"last_name\": \"agrawal\", 2: \"two\"}\n",
    "print(info)\n",
    "print(len(info))\n",
    "\n",
    "info[\"name\"] = \"new\"\n",
    "\n",
    "print(info[2], info[\"name\"], sep=\"\\t\")\n",
    "print(info.get(\"color\", \"Not found\"))\n",
    "\n",
    "print(info.pop(\"name\"), info)\n",
    "print(info.pop(\"color\", \"Not found\"), info)\n",
    "\n",
    "print()\n",
    "print(info)\n",
    "print(info.popitem()) #pops last added element from the dict.\n",
    "print(info)\n",
    "\n",
    "print(\"name\" in info, \"last_name\" in info, end=\"\\n\\n\")\n",
    "\n",
    "print(info.keys(), list(info.keys()), sep=\"\\t\", end=\"\\n\\n\")\n",
    "print(info.values(), list(info.values()), sep=\"\\t\", end=\"\\n\\n\")\n",
    "print(info.items(), list(info.items()), sep=\"\\t\", end=\"\\n\\n\")\n",
    "\n",
    "info[\"age\"] = 26\n",
    "print(info)\n",
    "\n",
    "del info[\"age\"]\n",
    "print(info)\n",
    "\n",
    "info_copy = info.copy()\n",
    "print(info_copy)"
   ]
  },
  {
   "cell_type": "markdown",
   "metadata": {},
   "source": [
    "### Sets\n",
    "\n",
    "- kind of like tuple\n",
    "- not ordered\n",
    "- mutable\n",
    "- or we can also say that they are like dict but without keys\n",
    "- immutable version -> forzen set\n",
    "- can't have 2 same items"
   ]
  },
  {
   "cell_type": "code",
   "execution_count": 82,
   "metadata": {},
   "outputs": [
    {
     "name": "stdout",
     "output_type": "stream",
     "text": [
      "{'surbhi', 'sourabh'} {'newmember', 'sourabh'} None {'surbhi', 'sourabh'}\n",
      "{'sourabh'}\n",
      "{'surbhi', 'sourabh', 'newmember'}\n",
      "{'surbhi'}\n",
      "['surbhi', 'sourabh']\n",
      "True\n"
     ]
    }
   ],
   "source": [
    "set1 = {\"sourabh\", \"surbhi\"}\n",
    "set2 = {\"newmember\", \"sourabh\"}\n",
    "\n",
    "print(set1, set2, set1.add(\"sourabh\"), set1) # addition of sourabh, didn't change anything\n",
    "print(set1.intersection(set2))\n",
    "print(set1.union(set2))\n",
    "\n",
    "print(set1.difference(set2))\n",
    "print(list(set1))\n",
    "print(\"sourabh\" in set1)"
   ]
  },
  {
   "cell_type": "markdown",
   "metadata": {},
   "source": [
    "## Functions\n",
    "\n",
    "- **Parameter**: values accepted by the function inside the function definition\n",
    "- **Argument**: values passed while calling the function"
   ]
  },
  {
   "cell_type": "code",
   "execution_count": 8,
   "metadata": {},
   "outputs": [
    {
     "name": "stdout",
     "output_type": "stream",
     "text": [
      "Hello  Rajesh , You are  29  years old\n",
      "Hello  sourabh , You are  26  years old\n",
      "{'name': 'sourabh', 'age': 26}\n",
      "{'name': 'temp', 'age': 26}\n"
     ]
    }
   ],
   "source": [
    "def hello(name=\"Rajesh\", age=29):\n",
    "    print(\"Hello \", name, \", You are \", str(age), \" years old\")\n",
    "\n",
    "hello()\n",
    "hello(\"sourabh\", 26)\n",
    "\n",
    "# If you pass in a mutable obj then modifying it inside of the function will reflect outside as well.\n",
    "def change(info):\n",
    "    info[\"name\"] = \"temp\"\n",
    "\n",
    "info = {\"name\": \"sourabh\", \"age\": 26}\n",
    "print(info)\n",
    "change(info)\n",
    "print(info)"
   ]
  },
  {
   "cell_type": "markdown",
   "metadata": {},
   "source": [
    "### Return"
   ]
  },
  {
   "cell_type": "code",
   "execution_count": 7,
   "metadata": {},
   "outputs": [
    {
     "name": "stdout",
     "output_type": "stream",
     "text": [
      "None\n",
      "('sourabh', True)\n"
     ]
    }
   ],
   "source": [
    "def name_is_alpha(name):\n",
    "    if not name:\n",
    "        return\n",
    "    return name, str(name).isalpha()\n",
    "\n",
    "print(name_is_alpha(\"\"))\n",
    "print(name_is_alpha(\"sourabh\"))"
   ]
  },
  {
   "cell_type": "markdown",
   "metadata": {},
   "source": [
    "### Nested function"
   ]
  },
  {
   "cell_type": "code",
   "execution_count": 23,
   "metadata": {},
   "outputs": [
    {
     "name": "stdout",
     "output_type": "stream",
     "text": [
      "0 0\n",
      "(1, 1)\n",
      "1 0\n",
      "(1, 2)\n"
     ]
    }
   ],
   "source": [
    "temp = 0\n",
    "\n",
    "def count():\n",
    "    count = 0\n",
    "    print(temp, count) # local and global vars are accessible from inside the function.\n",
    "\n",
    "    def increment():\n",
    "        # To access global vars or vars of parent, use nonlocal or global\n",
    "        nonlocal count\n",
    "        global temp\n",
    "\n",
    "        count += 1\n",
    "        temp += 1\n",
    "\n",
    "        return count, temp\n",
    "    \n",
    "    return increment()\n",
    "\n",
    "print(count())\n",
    "print(count())"
   ]
  },
  {
   "cell_type": "markdown",
   "metadata": {},
   "source": [
    "### Closure"
   ]
  },
  {
   "cell_type": "code",
   "execution_count": 24,
   "metadata": {},
   "outputs": [
    {
     "name": "stdout",
     "output_type": "stream",
     "text": [
      "(1, 1)\n",
      "(2, 2)\n",
      "(3, 3)\n"
     ]
    }
   ],
   "source": [
    "# Interesting thing is, if you return nested function and that nested\n",
    "# function is using any nonlocal or global var then it's value is remembered.\n",
    "\n",
    "temp = 0\n",
    "\n",
    "def counter():\n",
    "    count = 0\n",
    "\n",
    "    def increment():\n",
    "        nonlocal count\n",
    "        global temp\n",
    "\n",
    "        count += 1\n",
    "        temp += 1\n",
    "\n",
    "        return count, temp\n",
    "\n",
    "    return increment # Notice that we are simply returing the function obj without calling it.\n",
    "\n",
    "increment = counter()\n",
    "print(increment())\n",
    "print(increment())\n",
    "print(increment())"
   ]
  },
  {
   "cell_type": "markdown",
   "metadata": {},
   "source": [
    "## Loops\n",
    "\n",
    "- While\n",
    "- For"
   ]
  }
 ],
 "metadata": {
  "kernelspec": {
   "display_name": "Python 3",
   "language": "python",
   "name": "python3"
  },
  "language_info": {
   "codemirror_mode": {
    "name": "ipython",
    "version": 3
   },
   "file_extension": ".py",
   "mimetype": "text/x-python",
   "name": "python",
   "nbconvert_exporter": "python",
   "pygments_lexer": "ipython3",
   "version": "3.10.12"
  }
 },
 "nbformat": 4,
 "nbformat_minor": 2
}
