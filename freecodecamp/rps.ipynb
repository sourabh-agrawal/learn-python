{
  "cells": [
    {
      "cell_type": "markdown",
      "id": "6aa16bd4-9329-4be5-8ce0-4e9ec141a4b1",
      "metadata": {
        "editable": true,
        "slideshow": {
          "slide_type": ""
        },
        "tags": []
      },
      "source": [
        "# Game: Rock, Paper, Scissors"
      ]
    },
    {
      "cell_type": "markdown",
      "id": "e0f039bf-186b-4511-894d-f4bd7f53eb79",
      "metadata": {},
      "source": [
        "## Variable\n",
        "\n",
        "- Python convention here is to use underscore for multi-word.\n",
        "- Indentation is very important in python."
      ]
    },
    {
      "cell_type": "code",
      "execution_count": 1,
      "id": "b89d1fe1-64c7-4e61-b1f4-2e3e5ad65766",
      "metadata": {
        "trusted": true
      },
      "outputs": [],
      "source": [
        "player_choice = \"rock\"\n",
        "computer_choice = \"paper\""
      ]
    },
    {
      "cell_type": "markdown",
      "id": "ae4452ae-ab7f-4c84-bd3f-173465a01b0a",
      "metadata": {},
      "source": [
        "## Function\n",
        "\n",
        "- In python there is no end character for ending a line/statement.\n",
        "- In the return statement, parenthesis are optional."
      ]
    },
    {
      "cell_type": "code",
      "execution_count": 3,
      "id": "b7a9f3d0-0a0e-4692-af47-5baf3aa0724c",
      "metadata": {
        "trusted": true
      },
      "outputs": [
        {
          "name": "stdout",
          "output_type": "stream",
          "text": [
            "paper\n"
          ]
        }
      ],
      "source": [
        "def get_choices():\n",
        "    player_choice = \"rock\"\n",
        "    computer_choice = \"paper\"\n",
        "\n",
        "    return computer_choice\n",
        "\n",
        "choices = get_choices()\n",
        "print(choices)"
      ]
    },
    {
      "cell_type": "markdown",
      "id": "2efceb81-ab0c-4514-b58b-265437c23e53",
      "metadata": {},
      "source": [
        "## Dictionaries"
      ]
    },
    {
      "cell_type": "code",
      "execution_count": 1,
      "id": "480483dc-3ce7-4b90-a76a-6d850d57423d",
      "metadata": {
        "trusted": true
      },
      "outputs": [
        {
          "name": "stdout",
          "output_type": "stream",
          "text": [
            "{'day': 'monday', 'color': 'red'}\n"
          ]
        }
      ],
      "source": [
        "dict = {\"day\": \"monday\", \"color\": \"red\"}\n",
        "print(dict)"
      ]
    },
    {
      "cell_type": "code",
      "execution_count": 12,
      "id": "d3d8a3b8-373c-4608-8218-ca19c82a414f",
      "metadata": {
        "trusted": true
      },
      "outputs": [
        {
          "name": "stdout",
          "output_type": "stream",
          "text": [
            "choices:  {'player': 'rock', 'computer': 'paper'}\n",
            "player_choice:  rock\n",
            "computer_choice:  paper\n"
          ]
        }
      ],
      "source": [
        "def get_choices():\n",
        "    player_choice = \"rock\"\n",
        "    computer_choice = \"paper\"\n",
        "\n",
        "    choices = {\"player\": player_choice, \"computer\": computer_choice}\n",
        "    return choices\n",
        "\n",
        "choices = get_choices()\n",
        "print(\"choices: \", choices)\n",
        "print(\"player_choice: \", choices[\"player\"])\n",
        "print(\"computer_choice: \", choices[\"computer\"])"
      ]
    },
    {
      "cell_type": "markdown",
      "id": "a24d5f36-65c3-4da6-b9de-1f029a4f2de4",
      "metadata": {},
      "source": [
        "## User Input"
      ]
    },
    {
      "cell_type": "code",
      "execution_count": 9,
      "id": "ceb2a719-e68b-4edc-ad3c-b24315f906d2",
      "metadata": {
        "trusted": true
      },
      "outputs": [
        {
          "name": "stdout",
          "output_type": "stream",
          "text": [
            "{'player': <PyodideFuture pending cb=[WebLoop._decrement_in_progress()]>, 'computer': 'paper'}\n"
          ]
        },
        {
          "name": "stdout",
          "output_type": "stream",
          "text": [
            "Enter a choice: rock, paper, scissors:  aa\n"
          ]
        }
      ],
      "source": [
        "def get_choices():\n",
        "    player_choice = input(\"Enter a choice: rock, paper, scissors: \")\n",
        "    computer_choice = \"paper\"\n",
        "\n",
        "    choices = {\"player\": player_choice, \"computer\": computer_choice}\n",
        "    return choices\n",
        "\n",
        "choices = get_choices()\n",
        "print(choices)"
      ]
    },
    {
      "cell_type": "markdown",
      "id": "5ecf4d7f-6eaf-4464-a2e2-01286f1402f8",
      "metadata": {},
      "source": [
        "## List"
      ]
    },
    {
      "cell_type": "code",
      "execution_count": 10,
      "id": "45eb7f8b-3cdf-4c4f-8fad-5b9df6588ace",
      "metadata": {
        "trusted": true
      },
      "outputs": [
        {
          "name": "stdout",
          "output_type": "stream",
          "text": [
            "['pizza', 'carrots', 'eggs']\n"
          ]
        }
      ],
      "source": [
        "food = [\"pizza\", \"carrots\", \"eggs\"]\n",
        "print(food)"
      ]
    },
    {
      "cell_type": "markdown",
      "id": "daefe37e-5850-4102-8039-c4b3f87e605f",
      "metadata": {},
      "source": [
        "## Libraries"
      ]
    },
    {
      "cell_type": "code",
      "execution_count": 13,
      "id": "c27067d4-19b5-4848-9817-e4e456050127",
      "metadata": {
        "trusted": true
      },
      "outputs": [
        {
          "name": "stdout",
          "output_type": "stream",
          "text": [
            "{'player': <PyodideFuture pending cb=[WebLoop._decrement_in_progress()]>, 'computer': 'paper'}\n"
          ]
        },
        {
          "name": "stdout",
          "output_type": "stream",
          "text": [
            "Enter a choice: rock, paper, scissors:  ss\n"
          ]
        }
      ],
      "source": [
        "import random\n",
        "\n",
        "def get_choices():\n",
        "    player_choice = input(\"Enter a choice: rock, paper, scissors: \")\n",
        "    options = [\"rock\", \"paper\", \"scissors\"]\n",
        "    computer_choice = random.choice(options)\n",
        "\n",
        "    choices = {\"player\": player_choice, \"computer\": computer_choice}\n",
        "    return choices\n",
        "\n",
        "choices = get_choices()\n",
        "print(choices)"
      ]
    },
    {
      "cell_type": "markdown",
      "id": "903373e6-0c51-4719-adb6-34d077537659",
      "metadata": {},
      "source": [
        "## String"
      ]
    },
    {
      "cell_type": "markdown",
      "id": "be27a14d-08f3-4503-b1fa-56ae240c20f2",
      "metadata": {},
      "source": [
        "### Concatination"
      ]
    },
    {
      "cell_type": "markdown",
      "id": "aedca933-a033-4c0c-bf33-7fb431007571",
      "metadata": {},
      "source": [
        "#### Approach-1"
      ]
    },
    {
      "cell_type": "code",
      "execution_count": 16,
      "id": "1f67f081-9d13-4be6-af7c-67683c755995",
      "metadata": {
        "trusted": true
      },
      "outputs": [
        {
          "name": "stdout",
          "output_type": "stream",
          "text": [
            "player: hey, computer: there\n"
          ]
        }
      ],
      "source": [
        "player, computer = \"hey\", \"there\"\n",
        "print(\"player: \"+player + \", computer: \"+computer)"
      ]
    },
    {
      "cell_type": "markdown",
      "id": "b2770311-aa89-46a7-a07c-e2c0638e5cd5",
      "metadata": {},
      "source": [
        "#### Approach-2"
      ]
    },
    {
      "cell_type": "markdown",
      "id": "c94ef534-2312-4d18-9e96-f23c69de6506",
      "metadata": {},
      "source": [
        "##### fstring\n",
        "\n",
        "- fstring allows to substitute variables etc directly into the quotes.\n",
        "- Use {} inside the \"\" to use any var or code"
      ]
    },
    {
      "cell_type": "code",
      "execution_count": 17,
      "id": "ef742690-bdc1-47db-947d-878610819a2b",
      "metadata": {
        "trusted": true
      },
      "outputs": [
        {
          "name": "stdout",
          "output_type": "stream",
          "text": [
            "My age is 11\n"
          ]
        }
      ],
      "source": [
        "age = 11\n",
        "print(f\"My age is {age}\")"
      ]
    },
    {
      "cell_type": "markdown",
      "id": "ef249f50-7ee0-4eea-9c7f-188a810ed5cb",
      "metadata": {},
      "source": [
        "## If/Else/Elif statement"
      ]
    },
    {
      "cell_type": "code",
      "execution_count": 20,
      "id": "95eeb3ef-a591-4237-bf19-a91822cb775b",
      "metadata": {
        "trusted": true
      },
      "outputs": [
        {
          "name": "stdout",
          "output_type": "stream",
          "text": [
            "yoyoyoyo\n"
          ]
        }
      ],
      "source": [
        "age = 20\n",
        "\n",
        "if age < 18:\n",
        "    print(\"yo\")\n",
        "elif age == 18:\n",
        "    print(\"yoyo\")\n",
        "else:\n",
        "    print(\"yoyoyoyo\")"
      ]
    },
    {
      "cell_type": "code",
      "execution_count": 2,
      "id": "aa51e950-477b-4e2e-a411-6819462a5652",
      "metadata": {
        "trusted": true
      },
      "outputs": [
        {
          "name": "stdout",
          "output_type": "stream",
          "text": [
            "You chose rock, computer chose paper\n",
            "paper covers rock! You lose.\n"
          ]
        }
      ],
      "source": [
        "def check_win(player, computer):\n",
        "    print(f\"You chose {player}, computer chose {computer}\")\n",
        "    if player == computer:\n",
        "        return \"It's a tie!\"\n",
        "    elif player == \"rock\" and computer == \"scissors\":\n",
        "        return \"Rock smashes scissors! You win!\"\n",
        "    elif player == \"rock\" and computer == \"paper\":\n",
        "        return \"paper covers rock! You lose.\"\n",
        "\n",
        "print(check_win(\"rock\", \"paper\"))"
      ]
    },
    {
      "cell_type": "markdown",
      "id": "757c1de5-b37d-4dd5-bf90-9d6c4265dbaa",
      "metadata": {},
      "source": [
        "### Nested if"
      ]
    },
    {
      "cell_type": "code",
      "execution_count": 7,
      "id": "69a8a644-4350-4daf-874f-96e5b9b59c51",
      "metadata": {
        "trusted": true
      },
      "outputs": [
        {
          "name": "stdout",
          "output_type": "stream",
          "text": [
            "You chose rock, computer chose paper\n",
            "paper covers rock! You lose.\n"
          ]
        }
      ],
      "source": [
        "def check_win(player, computer):\n",
        "    print(f\"You chose {player}, computer chose {computer}\")\n",
        "    if player == computer:\n",
        "        return \"It's a tie!\"\n",
        "    elif player == \"rock\":\n",
        "        if computer == \"scissors\":\n",
        "            return \"Rock smashes scissors! You win!\"\n",
        "        else:\n",
        "            return \"paper covers rock! You lose.\"\n",
        "    elif player == \"paper\":\n",
        "        if computer == \"rock\":\n",
        "            return \"paper covers rock! You win.\"\n",
        "        else:\n",
        "            return \"scissors cut paper! You lose.\"\n",
        "    elif player == \"scissors\":\n",
        "        if computer == \"rock\":\n",
        "            return \"Rock smashes scissors! You lose!\"\n",
        "        else:\n",
        "            return \"scissors cut paper! You win!\"\n",
        "\n",
        "print(check_win(\"rock\", \"paper\")) "
      ]
    },
    {
      "cell_type": "markdown",
      "id": "1d948c7d-4916-415e-b36c-af3581817bb6",
      "metadata": {},
      "source": [
        "## Test game"
      ]
    },
    {
      "cell_type": "code",
      "execution_count": 1,
      "id": "30292d20-124b-4bc6-a2fe-eba9a458731d",
      "metadata": {
        "trusted": true
      },
      "outputs": [
        {
          "name": "stdout",
          "output_type": "stream",
          "text": [
            "You chose paper, computer chose scissors\n",
            "scissors cut paper! You lose.\n"
          ]
        }
      ],
      "source": [
        "import random\n",
        "\n",
        "def get_choices():\n",
        "    player_choice = input(\"Enter a choice: rock, paper, scissors: \")\n",
        "    options = [\"rock\", \"paper\", \"scissors\"]\n",
        "    computer_choice = random.choice(options)\n",
        "\n",
        "    choices = {\"player\": player_choice, \"computer\": computer_choice}\n",
        "    return choices\n",
        "\n",
        "def check_win(player, computer):\n",
        "    print(f\"You chose {player}, computer chose {computer}\")\n",
        "    if player == computer:\n",
        "        return \"It's a tie!\"\n",
        "    elif player == \"rock\":\n",
        "        if computer == \"scissors\":\n",
        "            return \"Rock smashes scissors! You win!\"\n",
        "        else:\n",
        "            return \"paper covers rock! You lose.\"\n",
        "    elif player == \"paper\":\n",
        "        if computer == \"rock\":\n",
        "            return \"paper covers rock! You win.\"\n",
        "        else:\n",
        "            return \"scissors cut paper! You lose.\"\n",
        "    elif player == \"scissors\":\n",
        "        if computer == \"rock\":\n",
        "            return \"Rock smashes scissors! You lose!\"\n",
        "        else:\n",
        "            return \"scissors cut paper! You win!\"\n",
        " \n",
        "choices = get_choices()\n",
        "result = check_win(choices[\"player\"], choices[\"computer\"])\n",
        "print(result)"
      ]
    }
  ],
  "metadata": {
    "kernelspec": {
      "display_name": "Python 3",
      "language": "python",
      "name": "python3"
    },
    "language_info": {
      "codemirror_mode": {
        "name": "ipython",
        "version": 3
      },
      "file_extension": ".py",
      "mimetype": "text/x-python",
      "name": "python",
      "nbconvert_exporter": "python",
      "pygments_lexer": "ipython3",
      "version": "3.10.12"
    }
  },
  "nbformat": 4,
  "nbformat_minor": 5
}
